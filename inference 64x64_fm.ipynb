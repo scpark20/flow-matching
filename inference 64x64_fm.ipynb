{
 "cells": [
  {
   "cell_type": "code",
   "execution_count": 1,
   "id": "a98cdcfa",
   "metadata": {},
   "outputs": [
    {
     "name": "stdout",
     "output_type": "stream",
     "text": [
      "Tue Jun 25 00:25:34 2024       \r\n",
      "+-----------------------------------------------------------------------------------------+\r\n",
      "| NVIDIA-SMI 550.54.15              Driver Version: 550.54.15      CUDA Version: 12.4     |\r\n",
      "|-----------------------------------------+------------------------+----------------------+\r\n",
      "| GPU  Name                 Persistence-M | Bus-Id          Disp.A | Volatile Uncorr. ECC |\r\n",
      "| Fan  Temp   Perf          Pwr:Usage/Cap |           Memory-Usage | GPU-Util  Compute M. |\r\n",
      "|                                         |                        |               MIG M. |\r\n",
      "|=========================================+========================+======================|\r\n",
      "|   0  NVIDIA GeForce RTX 4090        Off |   00000000:19:00.0 Off |                  Off |\r\n",
      "|  0%   43C    P8             26W /  450W |      11MiB /  24564MiB |      0%      Default |\r\n",
      "|                                         |                        |                  N/A |\r\n",
      "+-----------------------------------------+------------------------+----------------------+\r\n",
      "|   1  NVIDIA GeForce RTX 4090        Off |   00000000:68:00.0 Off |                  Off |\r\n",
      "|  0%   43C    P8             15W /  450W |      28MiB /  24564MiB |      0%      Default |\r\n",
      "|                                         |                        |                  N/A |\r\n",
      "+-----------------------------------------+------------------------+----------------------+\r\n",
      "                                                                                         \r\n",
      "+-----------------------------------------------------------------------------------------+\r\n",
      "| Processes:                                                                              |\r\n",
      "|  GPU   GI   CI        PID   Type   Process name                              GPU Memory |\r\n",
      "|        ID   ID                                                               Usage      |\r\n",
      "|=========================================================================================|\r\n",
      "|    0   N/A  N/A      1250      G   /usr/lib/xorg/Xorg                              4MiB |\r\n",
      "|    1   N/A  N/A      1250      G   /usr/lib/xorg/Xorg                              9MiB |\r\n",
      "|    1   N/A  N/A      1512      G   /usr/bin/gnome-shell                            8MiB |\r\n",
      "+-----------------------------------------------------------------------------------------+\r\n"
     ]
    }
   ],
   "source": [
    "import torch\n",
    "import torch.nn as nn\n",
    "import torch.nn.functional as F\n",
    "import numpy as np\n",
    "import os\n",
    "\n",
    "!nvidia-smi\n",
    "os.environ[\"CUDA_VISIBLE_DEVICES\"]=\"0\""
   ]
  },
  {
   "cell_type": "code",
   "execution_count": 2,
   "id": "f6360434",
   "metadata": {},
   "outputs": [],
   "source": [
    "import os\n",
    "\n",
    "import numpy as np\n",
    "import torch as th\n",
    "\n",
    "from guided_diffusion import dist_util, logger\n",
    "from guided_diffusion.script_util import (\n",
    "    NUM_CLASSES,\n",
    "    model_and_diffusion_defaults,\n",
    "    create_model_and_diffusion,\n",
    "    add_dict_to_argparser,\n",
    "    args_to_dict,\n",
    ")"
   ]
  },
  {
   "cell_type": "code",
   "execution_count": 3,
   "id": "f3016e29",
   "metadata": {},
   "outputs": [],
   "source": [
    "from easydict import EasyDict\n",
    "defaults = EasyDict(\n",
    "    clip_denoised=True,\n",
    "    num_samples=10000,\n",
    "    batch_size=16,\n",
    "    use_ddim=False,\n",
    "    model_path=\"\",\n",
    ")\n",
    "defaults.update(model_and_diffusion_defaults())\n",
    "\n",
    "args = defaults\n",
    "args.attention_resolutions = \"32,16,8\"\n",
    "args.class_cond = False\n",
    "args.diffusion_steps = 1000\n",
    "args.dropout = 0.1 \n",
    "args.image_size = 64 \n",
    "args.learn_sigma = False\n",
    "args.noise_schedule = 'cosine'\n",
    "args.num_channels = 192 \n",
    "args.num_head_channels = 64 \n",
    "args.num_res_blocks = 3 \n",
    "args.resblock_updown = True\n",
    "args.use_new_attention_order = True\n",
    "args.use_fp16 = True\n",
    "args.use_scale_shift_norm = True\n"
   ]
  },
  {
   "cell_type": "code",
   "execution_count": 4,
   "id": "0c5d92b7",
   "metadata": {
    "scrolled": true
   },
   "outputs": [
    {
     "name": "stdout",
     "output_type": "stream",
     "text": [
      "total 27672784\r\n",
      "-rw-rw-r-- 1 scpark scpark    1970122  4월 26 16:41 log.txt\r\n",
      "-rw-rw-r-- 1 scpark scpark     936128  4월 26 16:41 progress.csv\r\n",
      "-rw-rw-r-- 1 scpark scpark 2361052375  4월 26 14:40 opt780000.pt\r\n",
      "-rw-rw-r-- 1 scpark scpark 1180631655  4월 26 14:40 ema_0.9999_780000.pt\r\n",
      "-rw-rw-r-- 1 scpark scpark 1180631655  4월 26 14:40 model780000.pt\r\n",
      "-rw-rw-r-- 1 scpark scpark 2361052375  4월 26 12:41 opt770000.pt\r\n",
      "-rw-rw-r-- 1 scpark scpark 1180631655  4월 26 12:41 ema_0.9999_770000.pt\r\n",
      "-rw-rw-r-- 1 scpark scpark 1180631655  4월 26 12:41 model770000.pt\r\n",
      "-rw-rw-r-- 1 scpark scpark 2361052375  4월 26 10:28 opt760000.pt\r\n",
      "-rw-rw-r-- 1 scpark scpark 1180631655  4월 26 10:28 ema_0.9999_760000.pt\r\n",
      "-rw-rw-r-- 1 scpark scpark 1180631655  4월 26 10:28 model760000.pt\r\n",
      "-rw-rw-r-- 1 scpark scpark 2361052375  4월 26 08:07 opt750000.pt\r\n",
      "-rw-rw-r-- 1 scpark scpark 1180631655  4월 26 08:07 ema_0.9999_750000.pt\r\n",
      "-rw-rw-r-- 1 scpark scpark 1180631655  4월 26 08:07 model750000.pt\r\n",
      "-rw-rw-r-- 1 scpark scpark 2361052375  4월 26 05:46 opt740000.pt\r\n",
      "-rw-rw-r-- 1 scpark scpark 1180631655  4월 26 05:46 ema_0.9999_740000.pt\r\n",
      "-rw-rw-r-- 1 scpark scpark 1180631655  4월 26 05:45 model740000.pt\r\n",
      "-rw-rw-r-- 1 scpark scpark 2361052375  4월 26 03:23 opt730000.pt\r\n",
      "-rw-rw-r-- 1 scpark scpark 1180631655  4월 26 03:23 ema_0.9999_730000.pt\r\n",
      "-rw-rw-r-- 1 scpark scpark 1180631655  4월 26 03:23 model730000.pt\r\n"
     ]
    }
   ],
   "source": [
    "!ls -lt /data/openai_log/64x64_fm_warm6"
   ]
  },
  {
   "cell_type": "code",
   "execution_count": 5,
   "id": "571928c9",
   "metadata": {},
   "outputs": [
    {
     "name": "stdout",
     "output_type": "stream",
     "text": [
      "done\n"
     ]
    }
   ],
   "source": [
    "device = 'cuda:0'\n",
    "model, diffusion = create_model_and_diffusion(\n",
    "        **args_to_dict(args, model_and_diffusion_defaults().keys())\n",
    "    )\n",
    "model = model.to(device)\n",
    "\n",
    "model_path = '/data/openai_log/64x64_fm_warm6/ema_0.9999_780000.pt'\n",
    "checkpoint = th.load(model_path, map_location='cpu')\n",
    "model.load_state_dict(checkpoint)\n",
    "model.convert_to_fp16()\n",
    "model.eval()\n",
    "print('done')"
   ]
  },
  {
   "cell_type": "markdown",
   "id": "84e9b1f5",
   "metadata": {},
   "source": [
    "### Euler"
   ]
  },
  {
   "cell_type": "code",
   "execution_count": 6,
   "id": "5084708e",
   "metadata": {},
   "outputs": [
    {
     "name": "stderr",
     "output_type": "stream",
     "text": [
      " 32%|█████████████▍                            | 32/100 [00:05<00:11,  5.90it/s]\n",
      "\n",
      "KeyboardInterrupt\n",
      "\n"
     ]
    }
   ],
   "source": [
    "from tqdm import tqdm\n",
    "\n",
    "T = 100\n",
    "dt = 1/T\n",
    "x = torch.randn(10, 3, args.image_size, args.image_size).to(device)\n",
    "\n",
    "with torch.no_grad():\n",
    "    for i in tqdm(range(T)):\n",
    "        t_tensor = torch.ones((len(x),)).to(device) * i/T\n",
    "        pred = model(x, t_tensor)\n",
    "        x = x.detach() + pred * dt\n",
    "\n",
    "x = ((x + 1) * 127.5).clamp(0, 255).to(th.uint8)\n",
    "x = x.permute(0, 2, 3, 1)\n",
    "x = x.contiguous()\n",
    "x = x.data.cpu().numpy()\n",
    "print(x.shape)"
   ]
  },
  {
   "cell_type": "code",
   "execution_count": null,
   "id": "c1ef280a",
   "metadata": {},
   "outputs": [],
   "source": [
    "import matplotlib.pyplot as plt\n",
    "plt.figure(figsize=[18, 5])\n",
    "for i in range(len(x)):\n",
    "    plt.subplot(1, len(x), i+1)\n",
    "    plt.imshow(x[i])\n",
    "    plt.xticks([])\n",
    "    plt.yticks([])\n",
    "plt.show()"
   ]
  },
  {
   "cell_type": "markdown",
   "id": "d715062b",
   "metadata": {},
   "source": [
    "### Get curvature"
   ]
  },
  {
   "cell_type": "code",
   "execution_count": 7,
   "id": "a4723e70",
   "metadata": {},
   "outputs": [
    {
     "name": "stderr",
     "output_type": "stream",
     "text": [
      "100%|█████████████████████████████████████████| 100/100 [01:18<00:00,  1.27it/s]\n"
     ]
    },
    {
     "name": "stdout",
     "output_type": "stream",
     "text": [
      "(100,)\n"
     ]
    }
   ],
   "source": [
    "from tqdm import tqdm\n",
    "\n",
    "T = 100\n",
    "dt = 1/T\n",
    "x = torch.randn(100, 3, args.image_size, args.image_size).to(device)\n",
    "\n",
    "v_prev = None\n",
    "curvatures = []\n",
    "with torch.no_grad():\n",
    "    for i in tqdm(range(T)):\n",
    "        t_tensor = torch.ones((len(x),)).to(device) * i/T\n",
    "        v = model(x, t_tensor)\n",
    "        x = x.detach() + v * dt\n",
    "        if v_prev is None:\n",
    "            v_prev = v\n",
    "        x_prev = x.detach() + v_prev * dt\n",
    "        v_prev = v\n",
    "        s = F.l1_loss(x, x_prev)\n",
    "        curvatures.append(s)\n",
    "        \n",
    "curvatures = torch.stack(curvatures, dim=0).data.cpu().numpy()\n",
    "print(curvatures.shape)"
   ]
  },
  {
   "cell_type": "code",
   "execution_count": 11,
   "id": "7eecc572",
   "metadata": {},
   "outputs": [
    {
     "data": {
      "image/png": "[encoded data removed]",
      "text/plain": [
       "<Figure size 1800x400 with 1 Axes>"
      ]
     },
     "metadata": {},
     "output_type": "display_data"
    }
   ],
   "source": [
    "import matplotlib.pyplot as plt\n",
    "plt.figure(figsize=[18, 4])\n",
    "plt.plot(curvatures)\n",
    "plt.grid()\n",
    "plt.show()"
   ]
  },
  {
   "cell_type": "markdown",
   "id": "b7fe00d3",
   "metadata": {},
   "source": [
    "### torchdiffeq"
   ]
  },
  {
   "cell_type": "code",
   "execution_count": 8,
   "id": "f2bf0593",
   "metadata": {},
   "outputs": [
    {
     "name": "stdout",
     "output_type": "stream",
     "text": [
      "tensor(0., device='cuda:0')\n",
      "tensor(0.0099, device='cuda:0')\n",
      "tensor(0.0058, device='cuda:0')\n",
      "tensor(0.0086, device='cuda:0')\n",
      "tensor(0.0230, device='cuda:0')\n",
      "tensor(0.0256, device='cuda:0')\n",
      "tensor(0.0288, device='cuda:0')\n",
      "tensor(0.0288, device='cuda:0')\n",
      "tensor(0.0362, device='cuda:0')\n",
      "tensor(0.0399, device='cuda:0')\n",
      "tensor(0.0586, device='cuda:0')\n",
      "tensor(0.0619, device='cuda:0')\n",
      "tensor(0.0660, device='cuda:0')\n",
      "tensor(0.0660, device='cuda:0')\n",
      "tensor(0.0738, device='cuda:0')\n",
      "tensor(0.0776, device='cuda:0')\n",
      "tensor(0.0970, device='cuda:0')\n",
      "tensor(0.1005, device='cuda:0')\n",
      "tensor(0.1048, device='cuda:0')\n",
      "tensor(0.1048, device='cuda:0')\n",
      "tensor(0.1159, device='cuda:0')\n",
      "tensor(0.1215, device='cuda:0')\n",
      "tensor(0.1493, device='cuda:0')\n",
      "tensor(0.1542, device='cuda:0')\n",
      "tensor(0.1604, device='cuda:0')\n",
      "tensor(0.1604, device='cuda:0')\n",
      "tensor(0.1732, device='cuda:0')\n",
      "tensor(0.1795, device='cuda:0')\n",
      "tensor(0.2114, device='cuda:0')\n",
      "tensor(0.2170, device='cuda:0')\n",
      "tensor(0.2241, device='cuda:0')\n",
      "tensor(0.2241, device='cuda:0')\n",
      "tensor(0.2425, device='cuda:0')\n",
      "tensor(0.2517, device='cuda:0')\n",
      "tensor(0.2976, device='cuda:0')\n",
      "tensor(0.3058, device='cuda:0')\n",
      "tensor(0.3160, device='cuda:0')\n",
      "tensor(0.3160, device='cuda:0')\n",
      "tensor(0.3344, device='cuda:0')\n",
      "tensor(0.3436, device='cuda:0')\n",
      "tensor(0.3896, device='cuda:0')\n",
      "tensor(0.3977, device='cuda:0')\n",
      "tensor(0.4079, device='cuda:0')\n",
      "tensor(0.4079, device='cuda:0')\n",
      "tensor(0.4285, device='cuda:0')\n",
      "tensor(0.4387, device='cuda:0')\n",
      "tensor(0.4900, device='cuda:0')\n",
      "tensor(0.4991, device='cuda:0')\n",
      "tensor(0.5105, device='cuda:0')\n",
      "tensor(0.5105, device='cuda:0')\n",
      "tensor(0.5349, device='cuda:0')\n",
      "tensor(0.5471, device='cuda:0')\n",
      "tensor(0.6080, device='cuda:0')\n",
      "tensor(0.6188, device='cuda:0')\n",
      "tensor(0.6323, device='cuda:0')\n",
      "tensor(0.6323, device='cuda:0')\n",
      "tensor(0.6599, device='cuda:0')\n",
      "tensor(0.6737, device='cuda:0')\n",
      "tensor(0.7427, device='cuda:0')\n",
      "tensor(0.7549, device='cuda:0')\n",
      "tensor(0.7702, device='cuda:0')\n",
      "tensor(0.7702, device='cuda:0')\n",
      "tensor(0.7978, device='cuda:0')\n",
      "tensor(0.8116, device='cuda:0')\n",
      "tensor(0.8806, device='cuda:0')\n",
      "tensor(0.8928, device='cuda:0')\n",
      "tensor(0.9082, device='cuda:0')\n",
      "tensor(0.9082, device='cuda:0')\n",
      "tensor(0.7932, device='cuda:0')\n",
      "tensor(0.8047, device='cuda:0')\n",
      "tensor(0.8621, device='cuda:0')\n",
      "tensor(0.8724, device='cuda:0')\n",
      "tensor(0.8851, device='cuda:0')\n",
      "tensor(0.8851, device='cuda:0')\n",
      "tensor(0.9081, device='cuda:0')\n",
      "tensor(0.9196, device='cuda:0')\n",
      "tensor(0.9770, device='cuda:0')\n",
      "tensor(0.9872, device='cuda:0')\n",
      "tensor(1.0000, device='cuda:0')\n",
      "tensor(1.0000, device='cuda:0')\n",
      "tensor(0.8937, device='cuda:0')\n",
      "tensor(0.8981, device='cuda:0')\n",
      "tensor(0.9196, device='cuda:0')\n",
      "tensor(0.9235, device='cuda:0')\n",
      "tensor(0.9283, device='cuda:0')\n",
      "tensor(0.9283, device='cuda:0')\n",
      "tensor(0.9389, device='cuda:0')\n",
      "tensor(0.9442, device='cuda:0')\n",
      "tensor(0.9708, device='cuda:0')\n",
      "tensor(0.9755, device='cuda:0')\n",
      "tensor(0.9815, device='cuda:0')\n",
      "tensor(0.9815, device='cuda:0')\n",
      "tensor(0.9358, device='cuda:0')\n",
      "tensor(0.9395, device='cuda:0')\n",
      "tensor(0.9583, device='cuda:0')\n",
      "tensor(0.9616, device='cuda:0')\n",
      "tensor(0.9657, device='cuda:0')\n",
      "tensor(0.9657, device='cuda:0')\n",
      "tensor(0.9739, device='cuda:0')\n",
      "tensor(0.9779, device='cuda:0')\n",
      "tensor(0.9982, device='cuda:0')\n",
      "tensor(1.0018, device='cuda:0')\n",
      "tensor(1.0063, device='cuda:0')\n",
      "tensor(1.0063, device='cuda:0')\n",
      "tensor(0.9696, device='cuda:0')\n",
      "tensor(0.9715, device='cuda:0')\n",
      "tensor(0.9812, device='cuda:0')\n",
      "tensor(0.9829, device='cuda:0')\n",
      "tensor(0.9851, device='cuda:0')\n",
      "tensor(0.9851, device='cuda:0')\n",
      "tensor(0.9891, device='cuda:0')\n",
      "tensor(0.9912, device='cuda:0')\n",
      "tensor(1.0014, device='cuda:0')\n",
      "tensor(1.0032, device='cuda:0')\n",
      "tensor(1.0055, device='cuda:0')\n",
      "tensor(1.0055, device='cuda:0')\n",
      "tensor(0.9872, device='cuda:0')\n",
      "tensor(0.9883, device='cuda:0')\n",
      "tensor(0.9936, device='cuda:0')\n",
      "tensor(0.9946, device='cuda:0')\n",
      "tensor(0.9958, device='cuda:0')\n",
      "tensor(0.9958, device='cuda:0')\n",
      "tensor(0.9869, device='cuda:0')\n",
      "tensor(0.9878, device='cuda:0')\n",
      "tensor(0.9925, device='cuda:0')\n",
      "tensor(0.9933, device='cuda:0')\n",
      "tensor(0.9943, device='cuda:0')\n",
      "tensor(0.9943, device='cuda:0')\n",
      "tensor(0.9962, device='cuda:0')\n",
      "tensor(0.9972, device='cuda:0')\n",
      "tensor(1.0019, device='cuda:0')\n",
      "tensor(1.0027, device='cuda:0')\n",
      "tensor(1.0038, device='cuda:0')\n",
      "tensor(1.0038, device='cuda:0')\n",
      "tensor(0.9958, device='cuda:0')\n",
      "tensor(0.9965, device='cuda:0')\n",
      "tensor(1.0002, device='cuda:0')\n",
      "tensor(1.0008, device='cuda:0')\n",
      "tensor(1.0017, device='cuda:0')\n",
      "tensor(1.0017, device='cuda:0')\n",
      "(10, 64, 64, 3)\n"
     ]
    }
   ],
   "source": [
    "from torchdiffeq import odeint\n",
    "\n",
    "def func(t, y):\n",
    "    print(t)\n",
    "    t = torch.Tensor([t]).to(device)\n",
    "    with torch.no_grad():\n",
    "        pred = model(y, t)\n",
    "    return pred.detach()\n",
    "\n",
    "x = torch.randn(10, 3, args.image_size, args.image_size).to(device)\n",
    "t = torch.linspace(0., 1., steps=10).to(device)\n",
    "x = odeint(func, x, t, method='dopri5', atol=1e-5, rtol=1e-5)[-1]\n",
    "\n",
    "x = ((x + 1) * 127.5).clamp(0, 255).to(th.uint8)\n",
    "x = x.permute(0, 2, 3, 1)\n",
    "x = x.contiguous()\n",
    "x = x.data.cpu().numpy()\n",
    "print(x.shape)"
   ]
  },
  {
   "cell_type": "code",
   "execution_count": 9,
   "id": "63153b35",
   "metadata": {},
   "outputs": [
    {
     "data": {
      "image/png": "[encoded data removed]",
      "text/plain": [
       "<Figure size 1800x500 with 10 Axes>"
      ]
     },
     "metadata": {},
     "output_type": "display_data"
    }
   ],
   "source": [
    "import matplotlib.pyplot as plt\n",
    "plt.figure(figsize=[18, 5])\n",
    "for i in range(len(x)):\n",
    "    plt.subplot(1, len(x), i+1)\n",
    "    plt.imshow(x[i])\n",
    "    plt.xticks([])\n",
    "    plt.yticks([])\n",
    "plt.show()"
   ]
  },
  {
   "cell_type": "markdown",
   "id": "6ff696f1",
   "metadata": {},
   "source": [
    "### Save .npz"
   ]
  },
  {
   "cell_type": "code",
   "execution_count": 8,
   "id": "03b085a4",
   "metadata": {},
   "outputs": [],
   "source": [
    "from tqdm import tqdm\n",
    "\n",
    "def sample_images(n_samples=100, T=100):\n",
    "    dt = 1./T\n",
    "    z = torch.randn(n_samples, 3, 64, 64).to(device)\n",
    "    with torch.no_grad():\n",
    "        for i in tqdm(range(T)):\n",
    "            t = torch.ones((len(z),)).to(device) * i/T\n",
    "            pred = model(z, t)\n",
    "            z = z.detach() + pred * dt\n",
    "\n",
    "    sample = ((z + 1) * 127.5).clamp(0, 255).to(torch.uint8)\n",
    "    sample = sample.permute(0, 2, 3, 1)\n",
    "    sample = sample.contiguous()\n",
    "    sample = sample.data.cpu().numpy()\n",
    "    return sample\n",
    "    "
   ]
  },
  {
   "cell_type": "code",
   "execution_count": 10,
   "id": "365be464",
   "metadata": {},
   "outputs": [
    {
     "name": "stdout",
     "output_type": "stream",
     "text": [
      "'18k_T=100_euler.npz'\t\t  classify_image_graph_def.pb\r\n",
      " FID.ipynb\t\t\t  evaluator.py\r\n",
      " README.md\t\t\t  iddpm_imagenet64.npz\r\n",
      " VIRTUAL_imagenet64_labeled.npz  'infer03.23-1_T=100_euler.npz'\r\n",
      " __pycache__\t\t\t 'infer04.12-1_T=100_euler.npz'\r\n",
      " celeba_ref.npz\t\t\t  requirements.txt\r\n",
      " celeba_ref2.npz\r\n"
     ]
    }
   ],
   "source": [
    "!ls /home/scpark/guided-diffusion/evaluations"
   ]
  },
  {
   "cell_type": "code",
   "execution_count": 11,
   "id": "8b75f430",
   "metadata": {
    "scrolled": true
   },
   "outputs": [
    {
     "name": "stderr",
     "output_type": "stream",
     "text": [
      "100%|█████████████████████████████████████████| 100/100 [00:46<00:00,  2.17it/s]\n",
      "100%|█████████████████████████████████████████| 100/100 [00:46<00:00,  2.17it/s]\n",
      "100%|█████████████████████████████████████████| 100/100 [00:46<00:00,  2.16it/s]\n",
      "100%|█████████████████████████████████████████| 100/100 [00:46<00:00,  2.16it/s]\n",
      "100%|█████████████████████████████████████████| 100/100 [00:46<00:00,  2.16it/s]\n",
      "100%|█████████████████████████████████████████| 100/100 [00:46<00:00,  2.16it/s]\n",
      "100%|█████████████████████████████████████████| 100/100 [00:46<00:00,  2.15it/s]\n",
      "100%|█████████████████████████████████████████| 100/100 [00:46<00:00,  2.15it/s]\n",
      "100%|█████████████████████████████████████████| 100/100 [00:46<00:00,  2.15it/s]\n",
      "100%|█████████████████████████████████████████| 100/100 [00:46<00:00,  2.15it/s]\n",
      "100%|█████████████████████████████████████████| 100/100 [00:46<00:00,  2.15it/s]\n",
      "100%|█████████████████████████████████████████| 100/100 [00:46<00:00,  2.15it/s]\n",
      "100%|█████████████████████████████████████████| 100/100 [00:46<00:00,  2.15it/s]\n",
      "100%|█████████████████████████████████████████| 100/100 [00:46<00:00,  2.15it/s]\n",
      "100%|█████████████████████████████████████████| 100/100 [00:46<00:00,  2.15it/s]\n",
      "100%|█████████████████████████████████████████| 100/100 [00:46<00:00,  2.15it/s]\n",
      "100%|█████████████████████████████████████████| 100/100 [00:46<00:00,  2.15it/s]\n",
      "100%|█████████████████████████████████████████| 100/100 [00:46<00:00,  2.15it/s]\n",
      "100%|█████████████████████████████████████████| 100/100 [00:46<00:00,  2.15it/s]\n",
      "100%|█████████████████████████████████████████| 100/100 [00:46<00:00,  2.15it/s]\n",
      "100%|█████████████████████████████████████████| 100/100 [00:46<00:00,  2.15it/s]\n",
      "100%|█████████████████████████████████████████| 100/100 [00:46<00:00,  2.15it/s]\n",
      "100%|█████████████████████████████████████████| 100/100 [00:46<00:00,  2.15it/s]\n",
      "100%|█████████████████████████████████████████| 100/100 [00:46<00:00,  2.15it/s]\n",
      "100%|█████████████████████████████████████████| 100/100 [00:46<00:00,  2.15it/s]\n",
      "100%|█████████████████████████████████████████| 100/100 [00:46<00:00,  2.15it/s]\n",
      "100%|█████████████████████████████████████████| 100/100 [00:46<00:00,  2.15it/s]\n",
      "100%|█████████████████████████████████████████| 100/100 [00:46<00:00,  2.15it/s]\n",
      "100%|█████████████████████████████████████████| 100/100 [00:46<00:00,  2.15it/s]\n",
      "100%|█████████████████████████████████████████| 100/100 [00:46<00:00,  2.15it/s]\n",
      "100%|█████████████████████████████████████████| 100/100 [00:46<00:00,  2.15it/s]\n",
      "100%|█████████████████████████████████████████| 100/100 [00:46<00:00,  2.15it/s]\n",
      "100%|█████████████████████████████████████████| 100/100 [00:46<00:00,  2.15it/s]\n",
      "100%|█████████████████████████████████████████| 100/100 [00:46<00:00,  2.15it/s]\n",
      "100%|█████████████████████████████████████████| 100/100 [00:46<00:00,  2.15it/s]\n",
      "100%|█████████████████████████████████████████| 100/100 [00:46<00:00,  2.15it/s]\n",
      "100%|█████████████████████████████████████████| 100/100 [00:46<00:00,  2.15it/s]\n",
      "100%|█████████████████████████████████████████| 100/100 [00:46<00:00,  2.15it/s]\n",
      "100%|█████████████████████████████████████████| 100/100 [00:46<00:00,  2.15it/s]\n",
      "100%|█████████████████████████████████████████| 100/100 [00:46<00:00,  2.15it/s]\n",
      "100%|█████████████████████████████████████████| 100/100 [00:46<00:00,  2.15it/s]\n",
      "100%|█████████████████████████████████████████| 100/100 [00:46<00:00,  2.15it/s]\n",
      "100%|█████████████████████████████████████████| 100/100 [00:46<00:00,  2.15it/s]\n",
      "100%|█████████████████████████████████████████| 100/100 [00:46<00:00,  2.15it/s]\n",
      "100%|█████████████████████████████████████████| 100/100 [00:46<00:00,  2.15it/s]\n",
      "100%|█████████████████████████████████████████| 100/100 [00:46<00:00,  2.15it/s]\n",
      "100%|█████████████████████████████████████████| 100/100 [00:46<00:00,  2.15it/s]\n",
      "100%|█████████████████████████████████████████| 100/100 [00:46<00:00,  2.15it/s]\n",
      "100%|█████████████████████████████████████████| 100/100 [00:46<00:00,  2.15it/s]\n",
      "100%|█████████████████████████████████████████| 100/100 [00:46<00:00,  2.15it/s]\n",
      "100%|█████████████████████████████████████████| 100/100 [00:46<00:00,  2.15it/s]\n",
      "100%|█████████████████████████████████████████| 100/100 [00:46<00:00,  2.15it/s]\n",
      "100%|█████████████████████████████████████████| 100/100 [00:46<00:00,  2.15it/s]\n",
      "100%|█████████████████████████████████████████| 100/100 [00:46<00:00,  2.15it/s]\n",
      "100%|█████████████████████████████████████████| 100/100 [00:46<00:00,  2.15it/s]\n",
      "100%|█████████████████████████████████████████| 100/100 [00:46<00:00,  2.15it/s]\n",
      "100%|█████████████████████████████████████████| 100/100 [00:46<00:00,  2.15it/s]\n",
      "100%|█████████████████████████████████████████| 100/100 [00:46<00:00,  2.15it/s]\n",
      "100%|█████████████████████████████████████████| 100/100 [00:46<00:00,  2.15it/s]\n",
      "100%|█████████████████████████████████████████| 100/100 [00:46<00:00,  2.15it/s]\n",
      "100%|█████████████████████████████████████████| 100/100 [00:46<00:00,  2.15it/s]\n",
      "100%|█████████████████████████████████████████| 100/100 [00:46<00:00,  2.15it/s]\n",
      "100%|█████████████████████████████████████████| 100/100 [00:46<00:00,  2.15it/s]\n",
      "100%|█████████████████████████████████████████| 100/100 [00:46<00:00,  2.15it/s]\n",
      "100%|█████████████████████████████████████████| 100/100 [00:46<00:00,  2.15it/s]\n",
      "100%|█████████████████████████████████████████| 100/100 [00:46<00:00,  2.15it/s]\n",
      "100%|█████████████████████████████████████████| 100/100 [00:46<00:00,  2.15it/s]\n",
      "100%|█████████████████████████████████████████| 100/100 [00:46<00:00,  2.15it/s]\n",
      "100%|█████████████████████████████████████████| 100/100 [00:46<00:00,  2.15it/s]\n",
      "100%|█████████████████████████████████████████| 100/100 [00:46<00:00,  2.15it/s]\n",
      "100%|█████████████████████████████████████████| 100/100 [00:46<00:00,  2.15it/s]\n",
      "100%|█████████████████████████████████████████| 100/100 [00:46<00:00,  2.15it/s]\n",
      "100%|█████████████████████████████████████████| 100/100 [00:46<00:00,  2.15it/s]\n",
      "100%|█████████████████████████████████████████| 100/100 [00:46<00:00,  2.15it/s]\n",
      "100%|█████████████████████████████████████████| 100/100 [00:46<00:00,  2.15it/s]\n",
      "100%|█████████████████████████████████████████| 100/100 [00:46<00:00,  2.15it/s]\n",
      "100%|█████████████████████████████████████████| 100/100 [00:46<00:00,  2.15it/s]\n",
      "100%|█████████████████████████████████████████| 100/100 [00:46<00:00,  2.15it/s]\n",
      "100%|█████████████████████████████████████████| 100/100 [00:46<00:00,  2.15it/s]\n",
      "100%|█████████████████████████████████████████| 100/100 [00:46<00:00,  2.15it/s]\n",
      "100%|█████████████████████████████████████████| 100/100 [00:46<00:00,  2.15it/s]\n",
      "100%|█████████████████████████████████████████| 100/100 [00:46<00:00,  2.15it/s]\n",
      "100%|█████████████████████████████████████████| 100/100 [00:46<00:00,  2.15it/s]\n",
      "100%|█████████████████████████████████████████| 100/100 [00:46<00:00,  2.15it/s]\n",
      "100%|█████████████████████████████████████████| 100/100 [00:46<00:00,  2.15it/s]\n",
      "100%|█████████████████████████████████████████| 100/100 [00:46<00:00,  2.15it/s]\n",
      "100%|█████████████████████████████████████████| 100/100 [00:46<00:00,  2.15it/s]\n",
      "100%|█████████████████████████████████████████| 100/100 [00:46<00:00,  2.15it/s]\n",
      "100%|█████████████████████████████████████████| 100/100 [00:46<00:00,  2.15it/s]\n",
      "100%|█████████████████████████████████████████| 100/100 [00:46<00:00,  2.15it/s]\n",
      "100%|█████████████████████████████████████████| 100/100 [00:46<00:00,  2.15it/s]\n",
      "100%|█████████████████████████████████████████| 100/100 [00:46<00:00,  2.15it/s]\n",
      "100%|█████████████████████████████████████████| 100/100 [00:46<00:00,  2.15it/s]\n",
      "100%|█████████████████████████████████████████| 100/100 [00:46<00:00,  2.15it/s]\n",
      "100%|█████████████████████████████████████████| 100/100 [00:46<00:00,  2.15it/s]\n",
      "100%|█████████████████████████████████████████| 100/100 [00:46<00:00,  2.15it/s]\n",
      "100%|█████████████████████████████████████████| 100/100 [00:46<00:00,  2.15it/s]\n",
      "100%|█████████████████████████████████████████| 100/100 [00:46<00:00,  2.15it/s]\n",
      "100%|█████████████████████████████████████████| 100/100 [00:46<00:00,  2.15it/s]\n",
      "100%|█████████████████████████████████████████| 100/100 [00:46<00:00,  2.15it/s]\n"
     ]
    },
    {
     "name": "stdout",
     "output_type": "stream",
     "text": [
      "(10000, 64, 64, 3)\n",
      "done\n"
     ]
    }
   ],
   "source": [
    "samples_list = [] \n",
    "for i in range(100):\n",
    "    samples = sample_images(100, 100)\n",
    "    samples_list.append(samples)\n",
    "    \n",
    "samples = np.concatenate(samples_list, axis=0)\n",
    "print(samples.shape)\n",
    "\n",
    "npz_file = '/home/scpark/guided-diffusion/evaluations/86k_T=100_euler.npz'\n",
    "np.savez(npz_file, samples, allow_pickle=True)\n",
    "print('done')"
   ]
  },
  {
   "cell_type": "markdown",
   "id": "cca5ad46",
   "metadata": {},
   "source": [
    "### Save .npz Dopri5"
   ]
  },
  {
   "cell_type": "code",
   "execution_count": 9,
   "id": "f3b24fac",
   "metadata": {},
   "outputs": [],
   "source": [
    "from tqdm import tqdm\n",
    "\n",
    "def sample_images_dopri5(n_samples=100):\n",
    "    from torchdiffeq import odeint\n",
    "\n",
    "    def func(t, y):\n",
    "        t = torch.Tensor([t]).to(device)\n",
    "        with torch.no_grad():\n",
    "            pred = model(y, t)\n",
    "        return pred.detach()\n",
    "\n",
    "    x = torch.randn(n_samples, 3, args.image_size, args.image_size).to(device)\n",
    "    t = torch.linspace(0., 1., steps=10).to(device)\n",
    "    x = odeint(func, x, t, method='dopri5', atol=1e-5, rtol=1e-5)[-1]\n",
    "\n",
    "    sample = ((x + 1) * 127.5).clamp(0, 255).to(torch.uint8)\n",
    "    sample = sample.permute(0, 2, 3, 1)\n",
    "    sample = sample.contiguous()\n",
    "    sample = sample.data.cpu().numpy()\n",
    "    return sample\n",
    "    "
   ]
  },
  {
   "cell_type": "code",
   "execution_count": null,
   "id": "81cdd9e0",
   "metadata": {},
   "outputs": [
    {
     "name": "stderr",
     "output_type": "stream",
     "text": [
      "\r",
      "  0%|                                                   | 0/100 [00:00<?, ?it/s]"
     ]
    },
    {
     "name": "stdout",
     "output_type": "stream",
     "text": [
      "0\n"
     ]
    },
    {
     "name": "stderr",
     "output_type": "stream",
     "text": [
      "\r",
      "  1%|▍                                        | 1/100 [01:02<1:43:02, 62.45s/it]"
     ]
    },
    {
     "name": "stdout",
     "output_type": "stream",
     "text": [
      "1\n"
     ]
    },
    {
     "name": "stderr",
     "output_type": "stream",
     "text": [
      "\r",
      "  2%|▊                                        | 2/100 [02:07<1:44:25, 63.93s/it]"
     ]
    },
    {
     "name": "stdout",
     "output_type": "stream",
     "text": [
      "2\n"
     ]
    },
    {
     "name": "stderr",
     "output_type": "stream",
     "text": [
      "\r",
      "  3%|█▏                                       | 3/100 [03:09<1:42:12, 63.22s/it]"
     ]
    },
    {
     "name": "stdout",
     "output_type": "stream",
     "text": [
      "3\n"
     ]
    },
    {
     "name": "stderr",
     "output_type": "stream",
     "text": [
      "\r",
      "  4%|█▋                                       | 4/100 [04:15<1:42:26, 64.03s/it]"
     ]
    },
    {
     "name": "stdout",
     "output_type": "stream",
     "text": [
      "4\n"
     ]
    },
    {
     "name": "stderr",
     "output_type": "stream",
     "text": [
      "\r",
      "  5%|██                                       | 5/100 [05:20<1:42:05, 64.48s/it]"
     ]
    },
    {
     "name": "stdout",
     "output_type": "stream",
     "text": [
      "5\n"
     ]
    },
    {
     "name": "stderr",
     "output_type": "stream",
     "text": [
      "\r",
      "  6%|██▍                                      | 6/100 [06:25<1:41:27, 64.77s/it]"
     ]
    },
    {
     "name": "stdout",
     "output_type": "stream",
     "text": [
      "6\n"
     ]
    },
    {
     "name": "stderr",
     "output_type": "stream",
     "text": [
      "\r",
      "  7%|██▊                                      | 7/100 [07:31<1:40:40, 64.96s/it]"
     ]
    },
    {
     "name": "stdout",
     "output_type": "stream",
     "text": [
      "7\n"
     ]
    },
    {
     "name": "stderr",
     "output_type": "stream",
     "text": [
      "\r",
      "  8%|███▎                                     | 8/100 [08:36<1:39:48, 65.09s/it]"
     ]
    },
    {
     "name": "stdout",
     "output_type": "stream",
     "text": [
      "8\n"
     ]
    },
    {
     "name": "stderr",
     "output_type": "stream",
     "text": [
      "\r",
      "  9%|███▋                                     | 9/100 [09:44<1:40:12, 66.07s/it]"
     ]
    },
    {
     "name": "stdout",
     "output_type": "stream",
     "text": [
      "9\n"
     ]
    },
    {
     "name": "stderr",
     "output_type": "stream",
     "text": [
      "\r",
      " 10%|████                                    | 10/100 [10:47<1:37:31, 65.02s/it]"
     ]
    },
    {
     "name": "stdout",
     "output_type": "stream",
     "text": [
      "10\n"
     ]
    },
    {
     "name": "stderr",
     "output_type": "stream",
     "text": [
      "\r",
      " 11%|████▍                                   | 11/100 [11:55<1:37:54, 66.01s/it]"
     ]
    },
    {
     "name": "stdout",
     "output_type": "stream",
     "text": [
      "11\n"
     ]
    },
    {
     "name": "stderr",
     "output_type": "stream",
     "text": [
      "\r",
      " 12%|████▊                                   | 12/100 [13:03<1:37:48, 66.69s/it]"
     ]
    },
    {
     "name": "stdout",
     "output_type": "stream",
     "text": [
      "12\n"
     ]
    },
    {
     "name": "stderr",
     "output_type": "stream",
     "text": [
      "\r",
      " 13%|█████▏                                  | 13/100 [14:06<1:34:54, 65.45s/it]"
     ]
    },
    {
     "name": "stdout",
     "output_type": "stream",
     "text": [
      "13\n"
     ]
    },
    {
     "name": "stderr",
     "output_type": "stream",
     "text": [
      "\r",
      " 14%|█████▌                                  | 14/100 [15:11<1:33:47, 65.44s/it]"
     ]
    },
    {
     "name": "stdout",
     "output_type": "stream",
     "text": [
      "14\n"
     ]
    },
    {
     "name": "stderr",
     "output_type": "stream",
     "text": [
      "\r",
      " 15%|██████                                  | 15/100 [16:14<1:31:28, 64.57s/it]"
     ]
    },
    {
     "name": "stdout",
     "output_type": "stream",
     "text": [
      "15\n"
     ]
    },
    {
     "name": "stderr",
     "output_type": "stream",
     "text": [
      "\r",
      " 16%|██████▍                                 | 16/100 [17:19<1:30:44, 64.82s/it]"
     ]
    },
    {
     "name": "stdout",
     "output_type": "stream",
     "text": [
      "16\n"
     ]
    },
    {
     "name": "stderr",
     "output_type": "stream",
     "text": [
      "\r",
      " 17%|██████▊                                 | 17/100 [18:22<1:28:45, 64.16s/it]"
     ]
    },
    {
     "name": "stdout",
     "output_type": "stream",
     "text": [
      "17\n"
     ]
    },
    {
     "name": "stderr",
     "output_type": "stream",
     "text": [
      "\r",
      " 18%|███████▏                                | 18/100 [19:27<1:28:12, 64.54s/it]"
     ]
    },
    {
     "name": "stdout",
     "output_type": "stream",
     "text": [
      "18\n"
     ]
    },
    {
     "name": "stderr",
     "output_type": "stream",
     "text": [
      "\r",
      " 19%|███████▌                                | 19/100 [20:33<1:27:29, 64.81s/it]"
     ]
    },
    {
     "name": "stdout",
     "output_type": "stream",
     "text": [
      "19\n"
     ]
    },
    {
     "name": "stderr",
     "output_type": "stream",
     "text": [
      "\r",
      " 20%|████████                                | 20/100 [21:44<1:28:54, 66.68s/it]"
     ]
    },
    {
     "name": "stdout",
     "output_type": "stream",
     "text": [
      "20\n"
     ]
    },
    {
     "name": "stderr",
     "output_type": "stream",
     "text": [
      "\r",
      " 21%|████████▍                               | 21/100 [22:52<1:28:24, 67.15s/it]"
     ]
    },
    {
     "name": "stdout",
     "output_type": "stream",
     "text": [
      "21\n"
     ]
    },
    {
     "name": "stderr",
     "output_type": "stream",
     "text": [
      "\r",
      " 22%|████████▊                               | 22/100 [24:00<1:27:42, 67.47s/it]"
     ]
    },
    {
     "name": "stdout",
     "output_type": "stream",
     "text": [
      "22\n"
     ]
    },
    {
     "name": "stderr",
     "output_type": "stream",
     "text": [
      "\r",
      " 23%|█████████▏                              | 23/100 [25:03<1:24:42, 66.01s/it]"
     ]
    },
    {
     "name": "stdout",
     "output_type": "stream",
     "text": [
      "23\n"
     ]
    },
    {
     "name": "stderr",
     "output_type": "stream",
     "text": [
      "\r",
      " 24%|█████████▌                              | 24/100 [26:08<1:23:23, 65.83s/it]"
     ]
    },
    {
     "name": "stdout",
     "output_type": "stream",
     "text": [
      "24\n"
     ]
    },
    {
     "name": "stderr",
     "output_type": "stream",
     "text": [
      "\r",
      " 25%|██████████                              | 25/100 [27:11<1:21:04, 64.86s/it]"
     ]
    },
    {
     "name": "stdout",
     "output_type": "stream",
     "text": [
      "25\n"
     ]
    },
    {
     "name": "stderr",
     "output_type": "stream",
     "text": [
      "\r",
      " 26%|██████████▍                             | 26/100 [28:16<1:20:11, 65.02s/it]"
     ]
    },
    {
     "name": "stdout",
     "output_type": "stream",
     "text": [
      "26\n"
     ]
    },
    {
     "name": "stderr",
     "output_type": "stream",
     "text": [
      "\r",
      " 27%|██████████▊                             | 27/100 [29:22<1:19:15, 65.14s/it]"
     ]
    },
    {
     "name": "stdout",
     "output_type": "stream",
     "text": [
      "27\n"
     ]
    },
    {
     "name": "stderr",
     "output_type": "stream",
     "text": [
      "\r",
      " 28%|███████████▏                            | 28/100 [30:27<1:18:16, 65.23s/it]"
     ]
    },
    {
     "name": "stdout",
     "output_type": "stream",
     "text": [
      "28\n"
     ]
    },
    {
     "name": "stderr",
     "output_type": "stream",
     "text": [
      "\r",
      " 29%|███████████▌                            | 29/100 [31:33<1:17:15, 65.29s/it]"
     ]
    },
    {
     "name": "stdout",
     "output_type": "stream",
     "text": [
      "29\n"
     ]
    },
    {
     "name": "stderr",
     "output_type": "stream",
     "text": [
      "\r",
      " 30%|████████████                            | 30/100 [32:44<1:18:11, 67.02s/it]"
     ]
    },
    {
     "name": "stdout",
     "output_type": "stream",
     "text": [
      "30\n"
     ]
    },
    {
     "name": "stderr",
     "output_type": "stream",
     "text": [
      "\r",
      " 31%|████████████▍                           | 31/100 [33:55<1:18:26, 68.22s/it]"
     ]
    },
    {
     "name": "stdout",
     "output_type": "stream",
     "text": [
      "31\n"
     ]
    },
    {
     "name": "stderr",
     "output_type": "stream",
     "text": [
      "\r",
      " 32%|████████████▊                           | 32/100 [35:00<1:16:21, 67.38s/it]"
     ]
    },
    {
     "name": "stdout",
     "output_type": "stream",
     "text": [
      "32\n"
     ]
    },
    {
     "name": "stderr",
     "output_type": "stream",
     "text": [
      "\r",
      " 33%|█████████████▏                          | 33/100 [36:05<1:14:35, 66.80s/it]"
     ]
    },
    {
     "name": "stdout",
     "output_type": "stream",
     "text": [
      "33\n"
     ]
    },
    {
     "name": "stderr",
     "output_type": "stream",
     "text": [
      "\r",
      " 34%|█████████████▌                          | 34/100 [37:11<1:13:01, 66.39s/it]"
     ]
    },
    {
     "name": "stdout",
     "output_type": "stream",
     "text": [
      "34\n"
     ]
    },
    {
     "name": "stderr",
     "output_type": "stream",
     "text": [
      "\r",
      " 35%|██████████████                          | 35/100 [38:16<1:11:36, 66.09s/it]"
     ]
    },
    {
     "name": "stdout",
     "output_type": "stream",
     "text": [
      "35\n"
     ]
    },
    {
     "name": "stderr",
     "output_type": "stream",
     "text": [
      "\r",
      " 36%|██████████████▍                         | 36/100 [39:22<1:10:16, 65.88s/it]"
     ]
    },
    {
     "name": "stdout",
     "output_type": "stream",
     "text": [
      "36\n"
     ]
    },
    {
     "name": "stderr",
     "output_type": "stream",
     "text": [
      "\r",
      " 37%|██████████████▊                         | 37/100 [40:27<1:09:01, 65.73s/it]"
     ]
    },
    {
     "name": "stdout",
     "output_type": "stream",
     "text": [
      "37\n"
     ]
    },
    {
     "name": "stderr",
     "output_type": "stream",
     "text": [
      "\r",
      " 38%|███████████████▏                        | 38/100 [41:33<1:07:49, 65.64s/it]"
     ]
    },
    {
     "name": "stdout",
     "output_type": "stream",
     "text": [
      "38\n"
     ]
    },
    {
     "name": "stderr",
     "output_type": "stream",
     "text": [
      "\r",
      " 39%|███████████████▌                        | 39/100 [42:38<1:06:40, 65.58s/it]"
     ]
    },
    {
     "name": "stdout",
     "output_type": "stream",
     "text": [
      "39\n"
     ]
    },
    {
     "name": "stderr",
     "output_type": "stream",
     "text": [
      "\r",
      " 40%|████████████████                        | 40/100 [43:43<1:05:32, 65.54s/it]"
     ]
    },
    {
     "name": "stdout",
     "output_type": "stream",
     "text": [
      "40\n"
     ]
    },
    {
     "name": "stderr",
     "output_type": "stream",
     "text": [
      "\r",
      " 41%|████████████████▍                       | 41/100 [44:46<1:03:35, 64.67s/it]"
     ]
    },
    {
     "name": "stdout",
     "output_type": "stream",
     "text": [
      "41\n"
     ]
    },
    {
     "name": "stderr",
     "output_type": "stream",
     "text": [
      "\r",
      " 42%|████████████████▊                       | 42/100 [45:54<1:03:32, 65.74s/it]"
     ]
    },
    {
     "name": "stdout",
     "output_type": "stream",
     "text": [
      "42\n"
     ]
    },
    {
     "name": "stderr",
     "output_type": "stream",
     "text": [
      "\r",
      " 43%|█████████████████▏                      | 43/100 [46:57<1:01:33, 64.80s/it]"
     ]
    },
    {
     "name": "stdout",
     "output_type": "stream",
     "text": [
      "43\n"
     ]
    },
    {
     "name": "stderr",
     "output_type": "stream",
     "text": [
      "\r",
      " 44%|█████████████████▌                      | 44/100 [48:02<1:00:39, 64.99s/it]"
     ]
    },
    {
     "name": "stdout",
     "output_type": "stream",
     "text": [
      "44\n"
     ]
    },
    {
     "name": "stderr",
     "output_type": "stream",
     "text": [
      "\r",
      " 45%|██████████████████▉                       | 45/100 [49:08<59:41, 65.12s/it]"
     ]
    },
    {
     "name": "stdout",
     "output_type": "stream",
     "text": [
      "45\n"
     ]
    },
    {
     "name": "stderr",
     "output_type": "stream",
     "text": [
      "\r",
      " 46%|███████████████████▎                      | 46/100 [50:10<57:55, 64.36s/it]"
     ]
    },
    {
     "name": "stdout",
     "output_type": "stream",
     "text": [
      "46\n"
     ]
    },
    {
     "name": "stderr",
     "output_type": "stream",
     "text": [
      "\r",
      " 47%|███████████████████▋                      | 47/100 [51:16<57:07, 64.67s/it]"
     ]
    },
    {
     "name": "stdout",
     "output_type": "stream",
     "text": [
      "47\n"
     ]
    },
    {
     "name": "stderr",
     "output_type": "stream",
     "text": [
      "\r",
      " 48%|████████████████████▏                     | 48/100 [52:16<54:46, 63.21s/it]"
     ]
    },
    {
     "name": "stdout",
     "output_type": "stream",
     "text": [
      "48\n"
     ]
    },
    {
     "name": "stderr",
     "output_type": "stream",
     "text": [
      "\r",
      " 49%|████████████████████▌                     | 49/100 [53:21<54:17, 63.87s/it]"
     ]
    },
    {
     "name": "stdout",
     "output_type": "stream",
     "text": [
      "49\n"
     ]
    },
    {
     "name": "stderr",
     "output_type": "stream",
     "text": [
      "\r",
      " 50%|█████████████████████                     | 50/100 [54:24<52:54, 63.50s/it]"
     ]
    },
    {
     "name": "stdout",
     "output_type": "stream",
     "text": [
      "50\n"
     ]
    },
    {
     "name": "stderr",
     "output_type": "stream",
     "text": [
      "\r",
      " 51%|█████████████████████▍                    | 51/100 [55:26<51:38, 63.24s/it]"
     ]
    },
    {
     "name": "stdout",
     "output_type": "stream",
     "text": [
      "51\n"
     ]
    },
    {
     "name": "stderr",
     "output_type": "stream",
     "text": [
      "\r",
      " 52%|█████████████████████▊                    | 52/100 [56:29<50:27, 63.06s/it]"
     ]
    },
    {
     "name": "stdout",
     "output_type": "stream",
     "text": [
      "52\n"
     ]
    },
    {
     "name": "stderr",
     "output_type": "stream",
     "text": [
      "\r",
      " 53%|██████████████████████▎                   | 53/100 [57:34<49:57, 63.78s/it]"
     ]
    },
    {
     "name": "stdout",
     "output_type": "stream",
     "text": [
      "53\n"
     ]
    },
    {
     "name": "stderr",
     "output_type": "stream",
     "text": [
      "\r",
      " 54%|██████████████████████▋                   | 54/100 [58:40<49:16, 64.28s/it]"
     ]
    },
    {
     "name": "stdout",
     "output_type": "stream",
     "text": [
      "54\n"
     ]
    },
    {
     "name": "stderr",
     "output_type": "stream",
     "text": [
      "\r",
      " 55%|███████████████████████                   | 55/100 [59:45<48:27, 64.62s/it]"
     ]
    },
    {
     "name": "stdout",
     "output_type": "stream",
     "text": [
      "55\n"
     ]
    },
    {
     "name": "stderr",
     "output_type": "stream",
     "text": [
      "\r",
      " 56%|██████████████████████▍                 | 56/100 [1:00:56<48:47, 66.54s/it]"
     ]
    },
    {
     "name": "stdout",
     "output_type": "stream",
     "text": [
      "56\n"
     ]
    },
    {
     "name": "stderr",
     "output_type": "stream",
     "text": [
      "\r",
      " 57%|██████████████████████▊                 | 57/100 [1:02:02<47:26, 66.20s/it]"
     ]
    },
    {
     "name": "stdout",
     "output_type": "stream",
     "text": [
      "57\n"
     ]
    },
    {
     "name": "stderr",
     "output_type": "stream",
     "text": [
      "\r",
      " 58%|███████████████████████▏                | 58/100 [1:03:07<46:10, 65.96s/it]"
     ]
    },
    {
     "name": "stdout",
     "output_type": "stream",
     "text": [
      "58\n"
     ]
    },
    {
     "name": "stderr",
     "output_type": "stream",
     "text": [
      "\r",
      " 59%|███████████████████████▌                | 59/100 [1:04:12<44:57, 65.78s/it]"
     ]
    },
    {
     "name": "stdout",
     "output_type": "stream",
     "text": [
      "59\n"
     ]
    },
    {
     "name": "stderr",
     "output_type": "stream",
     "text": [
      "\r",
      " 60%|████████████████████████                | 60/100 [1:05:15<43:12, 64.82s/it]"
     ]
    },
    {
     "name": "stdout",
     "output_type": "stream",
     "text": [
      "60\n"
     ]
    },
    {
     "name": "stderr",
     "output_type": "stream",
     "text": [
      "\r",
      " 61%|████████████████████████▍               | 61/100 [1:06:20<42:14, 65.00s/it]"
     ]
    },
    {
     "name": "stdout",
     "output_type": "stream",
     "text": [
      "61\n"
     ]
    },
    {
     "name": "stderr",
     "output_type": "stream",
     "text": [
      "\r",
      " 62%|████████████████████████▊               | 62/100 [1:07:26<41:14, 65.13s/it]"
     ]
    },
    {
     "name": "stdout",
     "output_type": "stream",
     "text": [
      "62\n"
     ]
    },
    {
     "name": "stderr",
     "output_type": "stream",
     "text": [
      "\r",
      " 63%|█████████████████████████▏              | 63/100 [1:08:31<40:13, 65.22s/it]"
     ]
    },
    {
     "name": "stdout",
     "output_type": "stream",
     "text": [
      "63\n"
     ]
    },
    {
     "name": "stderr",
     "output_type": "stream",
     "text": [
      "\r",
      " 64%|█████████████████████████▌              | 64/100 [1:09:39<39:40, 66.12s/it]"
     ]
    },
    {
     "name": "stdout",
     "output_type": "stream",
     "text": [
      "64\n"
     ]
    },
    {
     "name": "stderr",
     "output_type": "stream",
     "text": [
      "\r",
      " 65%|██████████████████████████              | 65/100 [1:10:45<38:26, 65.91s/it]"
     ]
    },
    {
     "name": "stdout",
     "output_type": "stream",
     "text": [
      "65\n"
     ]
    },
    {
     "name": "stderr",
     "output_type": "stream",
     "text": [
      "\r",
      " 66%|██████████████████████████▍             | 66/100 [1:11:50<37:16, 65.78s/it]"
     ]
    },
    {
     "name": "stdout",
     "output_type": "stream",
     "text": [
      "66\n"
     ]
    },
    {
     "name": "stderr",
     "output_type": "stream",
     "text": [
      "\r",
      " 67%|██████████████████████████▊             | 67/100 [1:12:56<36:07, 65.67s/it]"
     ]
    },
    {
     "name": "stdout",
     "output_type": "stream",
     "text": [
      "67\n"
     ]
    },
    {
     "name": "stderr",
     "output_type": "stream",
     "text": [
      "\r",
      " 68%|███████████████████████████▏            | 68/100 [1:14:01<34:58, 65.59s/it]"
     ]
    },
    {
     "name": "stdout",
     "output_type": "stream",
     "text": [
      "68\n"
     ]
    },
    {
     "name": "stderr",
     "output_type": "stream",
     "text": [
      "\r",
      " 69%|███████████████████████████▌            | 69/100 [1:15:07<33:51, 65.54s/it]"
     ]
    },
    {
     "name": "stdout",
     "output_type": "stream",
     "text": [
      "69\n"
     ]
    },
    {
     "name": "stderr",
     "output_type": "stream",
     "text": [
      "\r",
      " 70%|████████████████████████████            | 70/100 [1:16:20<34:00, 68.02s/it]"
     ]
    },
    {
     "name": "stdout",
     "output_type": "stream",
     "text": [
      "70\n"
     ]
    },
    {
     "name": "stderr",
     "output_type": "stream",
     "text": [
      "\r",
      " 71%|████████████████████████████▍           | 71/100 [1:17:26<32:29, 67.24s/it]"
     ]
    },
    {
     "name": "stdout",
     "output_type": "stream",
     "text": [
      "71\n"
     ]
    },
    {
     "name": "stderr",
     "output_type": "stream",
     "text": [
      "\r",
      " 72%|████████████████████████████▊           | 72/100 [1:18:28<30:43, 65.85s/it]"
     ]
    },
    {
     "name": "stdout",
     "output_type": "stream",
     "text": [
      "72\n"
     ]
    },
    {
     "name": "stderr",
     "output_type": "stream",
     "text": [
      "\r",
      " 73%|█████████████████████████████▏          | 73/100 [1:19:39<30:20, 67.41s/it]"
     ]
    },
    {
     "name": "stdout",
     "output_type": "stream",
     "text": [
      "73\n"
     ]
    },
    {
     "name": "stderr",
     "output_type": "stream",
     "text": [
      "\r",
      " 74%|█████████████████████████████▌          | 74/100 [1:20:45<28:57, 66.82s/it]"
     ]
    },
    {
     "name": "stdout",
     "output_type": "stream",
     "text": [
      "74\n"
     ]
    },
    {
     "name": "stderr",
     "output_type": "stream",
     "text": [
      "\r",
      " 75%|██████████████████████████████          | 75/100 [1:21:53<28:01, 67.25s/it]"
     ]
    },
    {
     "name": "stdout",
     "output_type": "stream",
     "text": [
      "75\n"
     ]
    },
    {
     "name": "stderr",
     "output_type": "stream",
     "text": [
      "\r",
      " 76%|██████████████████████████████▍         | 76/100 [1:22:59<26:40, 66.71s/it]"
     ]
    },
    {
     "name": "stdout",
     "output_type": "stream",
     "text": [
      "76\n"
     ]
    },
    {
     "name": "stderr",
     "output_type": "stream",
     "text": [
      "\r",
      " 77%|██████████████████████████████▊         | 77/100 [1:24:07<25:44, 67.17s/it]"
     ]
    },
    {
     "name": "stdout",
     "output_type": "stream",
     "text": [
      "77\n"
     ]
    },
    {
     "name": "stderr",
     "output_type": "stream",
     "text": [
      "\r",
      " 78%|███████████████████████████████▏        | 78/100 [1:25:12<24:26, 66.65s/it]"
     ]
    },
    {
     "name": "stdout",
     "output_type": "stream",
     "text": [
      "78\n"
     ]
    },
    {
     "name": "stderr",
     "output_type": "stream",
     "text": [
      "\r",
      " 79%|███████████████████████████████▌        | 79/100 [1:26:12<22:36, 64.60s/it]"
     ]
    },
    {
     "name": "stdout",
     "output_type": "stream",
     "text": [
      "79\n"
     ]
    },
    {
     "name": "stderr",
     "output_type": "stream",
     "text": [
      "\r",
      " 80%|████████████████████████████████        | 80/100 [1:27:18<21:37, 64.85s/it]"
     ]
    },
    {
     "name": "stdout",
     "output_type": "stream",
     "text": [
      "80\n"
     ]
    }
   ],
   "source": [
    "from tqdm import tqdm\n",
    "samples_list = [] \n",
    "for i in tqdm(range(100)):\n",
    "    print(i)\n",
    "    samples = sample_images_dopri5(100)\n",
    "    samples_list.append(samples)\n",
    "    \n",
    "samples = np.concatenate(samples_list, axis=0)\n",
    "print(samples.shape)\n",
    "\n",
    "npz_file = '/home/scpark/guided-diffusion/evaluations/19.28epoch_dopri5.npz'\n",
    "np.savez(npz_file, samples, allow_pickle=True)\n",
    "print('done')"
   ]
  },
  {
   "cell_type": "code",
   "execution_count": 12,
   "id": "afc0a5f0",
   "metadata": {},
   "outputs": [
    {
     "name": "stdout",
     "output_type": "stream",
     "text": [
      "done\n"
     ]
    }
   ],
   "source": [
    "print('done')"
   ]
  },
  {
   "cell_type": "code",
   "execution_count": null,
   "id": "b63e3de1",
   "metadata": {},
   "outputs": [],
   "source": []
  }
 ],
 "metadata": {
  "kernelspec": {
   "display_name": "ste",
   "language": "python",
   "name": "ste"
  },
  "language_info": {
   "codemirror_mode": {
    "name": "ipython",
    "version": 3
   },
   "file_extension": ".py",
   "mimetype": "text/x-python",
   "name": "python",
   "nbconvert_exporter": "python",
   "pygments_lexer": "ipython3",
   "version": "3.9.18"
  }
 },
 "nbformat": 4,
 "nbformat_minor": 5
}
