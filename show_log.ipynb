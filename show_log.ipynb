{
 "cells": [
  {
   "cell_type": "code",
   "execution_count": 1,
   "id": "638619be",
   "metadata": {},
   "outputs": [
    {
     "name": "stdout",
     "output_type": "stream",
     "text": [
      "total 27672784\r\n",
      "-rw-rw-r-- 1 scpark scpark    1970122  4월 26 16:41 log.txt\r\n",
      "-rw-rw-r-- 1 scpark scpark     936128  4월 26 16:41 progress.csv\r\n",
      "-rw-rw-r-- 1 scpark scpark 2361052375  4월 26 14:40 opt780000.pt\r\n",
      "-rw-rw-r-- 1 scpark scpark 1180631655  4월 26 14:40 ema_0.9999_780000.pt\r\n",
      "-rw-rw-r-- 1 scpark scpark 1180631655  4월 26 14:40 model780000.pt\r\n",
      "-rw-rw-r-- 1 scpark scpark 2361052375  4월 26 12:41 opt770000.pt\r\n",
      "-rw-rw-r-- 1 scpark scpark 1180631655  4월 26 12:41 ema_0.9999_770000.pt\r\n",
      "-rw-rw-r-- 1 scpark scpark 1180631655  4월 26 12:41 model770000.pt\r\n",
      "-rw-rw-r-- 1 scpark scpark 2361052375  4월 26 10:28 opt760000.pt\r\n",
      "-rw-rw-r-- 1 scpark scpark 1180631655  4월 26 10:28 ema_0.9999_760000.pt\r\n",
      "-rw-rw-r-- 1 scpark scpark 1180631655  4월 26 10:28 model760000.pt\r\n",
      "-rw-rw-r-- 1 scpark scpark 2361052375  4월 26 08:07 opt750000.pt\r\n",
      "-rw-rw-r-- 1 scpark scpark 1180631655  4월 26 08:07 ema_0.9999_750000.pt\r\n",
      "-rw-rw-r-- 1 scpark scpark 1180631655  4월 26 08:07 model750000.pt\r\n",
      "-rw-rw-r-- 1 scpark scpark 2361052375  4월 26 05:46 opt740000.pt\r\n",
      "-rw-rw-r-- 1 scpark scpark 1180631655  4월 26 05:46 ema_0.9999_740000.pt\r\n",
      "-rw-rw-r-- 1 scpark scpark 1180631655  4월 26 05:45 model740000.pt\r\n",
      "-rw-rw-r-- 1 scpark scpark 2361052375  4월 26 03:23 opt730000.pt\r\n",
      "-rw-rw-r-- 1 scpark scpark 1180631655  4월 26 03:23 ema_0.9999_730000.pt\r\n",
      "-rw-rw-r-- 1 scpark scpark 1180631655  4월 26 03:23 model730000.pt\r\n"
     ]
    }
   ],
   "source": [
    "!ls -lt /data/openai_log/64x64_fm_warm6"
   ]
  },
  {
   "cell_type": "code",
   "execution_count": 2,
   "id": "b1492f75",
   "metadata": {},
   "outputs": [
    {
     "data": {
      "image/png": "[encoded data removed]",
      "text/plain": [
       "<Figure size 1800x400 with 1 Axes>"
      ]
     },
     "metadata": {},
     "output_type": "display_data"
    }
   ],
   "source": [
    "import pandas as pd\n",
    "import numpy as np\n",
    "import matplotlib.pyplot as plt\n",
    "\n",
    "df = pd.read_csv('/data/openai_log/64x64_fm_warm6/progress.csv')\n",
    "\n",
    "plt.figure(figsize=[18, 4])\n",
    "#plt.plot(np.log2(np.array(df['loss'])))\n",
    "plt.plot(np.array(df['loss']))\n",
    "plt.grid()\n",
    "#plt.ylim([-3, -2.5])\n",
    "plt.xlim([0, 10**5])\n",
    "plt.show()"
   ]
  },
  {
   "cell_type": "code",
   "execution_count": 3,
   "id": "70d095a1",
   "metadata": {},
   "outputs": [
    {
     "data": {
      "text/html": [
       "<div>\n",
       "<style scoped>\n",
       "    .dataframe tbody tr th:only-of-type {\n",
       "        vertical-align: middle;\n",
       "    }\n",
       "\n",
       "    .dataframe tbody tr th {\n",
       "        vertical-align: top;\n",
       "    }\n",
       "\n",
       "    .dataframe thead th {\n",
       "        text-align: right;\n",
       "    }\n",
       "</style>\n",
       "<table border=\"1\" class=\"dataframe\">\n",
       "  <thead>\n",
       "    <tr style=\"text-align: right;\">\n",
       "      <th></th>\n",
       "      <th>grad_norm</th>\n",
       "      <th>lg_loss_scale</th>\n",
       "      <th>loss</th>\n",
       "      <th>loss_q0</th>\n",
       "      <th>mse</th>\n",
       "      <th>mse_q0</th>\n",
       "      <th>param_norm</th>\n",
       "      <th>samples</th>\n",
       "      <th>step</th>\n",
       "    </tr>\n",
       "  </thead>\n",
       "  <tbody>\n",
       "    <tr>\n",
       "      <th>0</th>\n",
       "      <td>0.035677</td>\n",
       "      <td>20.0000</td>\n",
       "      <td>0.124179</td>\n",
       "      <td>0.124179</td>\n",
       "      <td>0.124179</td>\n",
       "      <td>0.124179</td>\n",
       "      <td>2371.130834</td>\n",
       "      <td>23264032</td>\n",
       "      <td>727000</td>\n",
       "    </tr>\n",
       "    <tr>\n",
       "      <th>1</th>\n",
       "      <td>0.047305</td>\n",
       "      <td>20.0055</td>\n",
       "      <td>0.136217</td>\n",
       "      <td>0.136217</td>\n",
       "      <td>0.136217</td>\n",
       "      <td>0.136217</td>\n",
       "      <td>2371.132900</td>\n",
       "      <td>23264352</td>\n",
       "      <td>727010</td>\n",
       "    </tr>\n",
       "    <tr>\n",
       "      <th>2</th>\n",
       "      <td>0.047169</td>\n",
       "      <td>20.0155</td>\n",
       "      <td>0.146650</td>\n",
       "      <td>0.146650</td>\n",
       "      <td>0.146650</td>\n",
       "      <td>0.146650</td>\n",
       "      <td>2371.137198</td>\n",
       "      <td>23264672</td>\n",
       "      <td>727020</td>\n",
       "    </tr>\n",
       "    <tr>\n",
       "      <th>3</th>\n",
       "      <td>0.044709</td>\n",
       "      <td>20.0255</td>\n",
       "      <td>0.147714</td>\n",
       "      <td>0.147714</td>\n",
       "      <td>0.147714</td>\n",
       "      <td>0.147714</td>\n",
       "      <td>2371.140324</td>\n",
       "      <td>23264992</td>\n",
       "      <td>727030</td>\n",
       "    </tr>\n",
       "    <tr>\n",
       "      <th>4</th>\n",
       "      <td>0.054251</td>\n",
       "      <td>20.0355</td>\n",
       "      <td>0.155924</td>\n",
       "      <td>0.155924</td>\n",
       "      <td>0.155924</td>\n",
       "      <td>0.155924</td>\n",
       "      <td>2371.142762</td>\n",
       "      <td>23265312</td>\n",
       "      <td>727040</td>\n",
       "    </tr>\n",
       "    <tr>\n",
       "      <th>...</th>\n",
       "      <td>...</td>\n",
       "      <td>...</td>\n",
       "      <td>...</td>\n",
       "      <td>...</td>\n",
       "      <td>...</td>\n",
       "      <td>...</td>\n",
       "      <td>...</td>\n",
       "      <td>...</td>\n",
       "      <td>...</td>\n",
       "    </tr>\n",
       "    <tr>\n",
       "      <th>6151</th>\n",
       "      <td>0.044364</td>\n",
       "      <td>20.4445</td>\n",
       "      <td>0.158370</td>\n",
       "      <td>0.158370</td>\n",
       "      <td>0.158370</td>\n",
       "      <td>0.158370</td>\n",
       "      <td>2399.217410</td>\n",
       "      <td>25232352</td>\n",
       "      <td>788510</td>\n",
       "    </tr>\n",
       "    <tr>\n",
       "      <th>6152</th>\n",
       "      <td>0.050914</td>\n",
       "      <td>20.4545</td>\n",
       "      <td>0.151998</td>\n",
       "      <td>0.151998</td>\n",
       "      <td>0.151998</td>\n",
       "      <td>0.151998</td>\n",
       "      <td>2399.221831</td>\n",
       "      <td>25232672</td>\n",
       "      <td>788520</td>\n",
       "    </tr>\n",
       "    <tr>\n",
       "      <th>6153</th>\n",
       "      <td>0.058992</td>\n",
       "      <td>20.4645</td>\n",
       "      <td>0.155891</td>\n",
       "      <td>0.155891</td>\n",
       "      <td>0.155891</td>\n",
       "      <td>0.155891</td>\n",
       "      <td>2399.223487</td>\n",
       "      <td>25232992</td>\n",
       "      <td>788530</td>\n",
       "    </tr>\n",
       "    <tr>\n",
       "      <th>6154</th>\n",
       "      <td>0.041629</td>\n",
       "      <td>20.4745</td>\n",
       "      <td>0.147515</td>\n",
       "      <td>0.147515</td>\n",
       "      <td>0.147515</td>\n",
       "      <td>0.147515</td>\n",
       "      <td>2399.226470</td>\n",
       "      <td>25233312</td>\n",
       "      <td>788540</td>\n",
       "    </tr>\n",
       "    <tr>\n",
       "      <th>6155</th>\n",
       "      <td>0.042506</td>\n",
       "      <td>20.4845</td>\n",
       "      <td>0.137491</td>\n",
       "      <td>0.137491</td>\n",
       "      <td>0.137491</td>\n",
       "      <td>0.137491</td>\n",
       "      <td>2399.229914</td>\n",
       "      <td>25233632</td>\n",
       "      <td>788550</td>\n",
       "    </tr>\n",
       "  </tbody>\n",
       "</table>\n",
       "<p>6156 rows × 9 columns</p>\n",
       "</div>"
      ],
      "text/plain": [
       "      grad_norm  lg_loss_scale      loss   loss_q0       mse    mse_q0  \\\n",
       "0      0.035677        20.0000  0.124179  0.124179  0.124179  0.124179   \n",
       "1      0.047305        20.0055  0.136217  0.136217  0.136217  0.136217   \n",
       "2      0.047169        20.0155  0.146650  0.146650  0.146650  0.146650   \n",
       "3      0.044709        20.0255  0.147714  0.147714  0.147714  0.147714   \n",
       "4      0.054251        20.0355  0.155924  0.155924  0.155924  0.155924   \n",
       "...         ...            ...       ...       ...       ...       ...   \n",
       "6151   0.044364        20.4445  0.158370  0.158370  0.158370  0.158370   \n",
       "6152   0.050914        20.4545  0.151998  0.151998  0.151998  0.151998   \n",
       "6153   0.058992        20.4645  0.155891  0.155891  0.155891  0.155891   \n",
       "6154   0.041629        20.4745  0.147515  0.147515  0.147515  0.147515   \n",
       "6155   0.042506        20.4845  0.137491  0.137491  0.137491  0.137491   \n",
       "\n",
       "       param_norm   samples    step  \n",
       "0     2371.130834  23264032  727000  \n",
       "1     2371.132900  23264352  727010  \n",
       "2     2371.137198  23264672  727020  \n",
       "3     2371.140324  23264992  727030  \n",
       "4     2371.142762  23265312  727040  \n",
       "...           ...       ...     ...  \n",
       "6151  2399.217410  25232352  788510  \n",
       "6152  2399.221831  25232672  788520  \n",
       "6153  2399.223487  25232992  788530  \n",
       "6154  2399.226470  25233312  788540  \n",
       "6155  2399.229914  25233632  788550  \n",
       "\n",
       "[6156 rows x 9 columns]"
      ]
     },
     "execution_count": 3,
     "metadata": {},
     "output_type": "execute_result"
    }
   ],
   "source": [
    "df"
   ]
  },
  {
   "cell_type": "code",
   "execution_count": 7,
   "id": "374b9932",
   "metadata": {},
   "outputs": [
    {
     "data": {
      "text/plain": [
       "5300    19.482263\n",
       "Name: samples, dtype: float64"
      ]
     },
     "execution_count": 7,
     "metadata": {},
     "output_type": "execute_result"
    }
   ],
   "source": [
    "df[df['step'] == 780000]['samples'] / 1281167"
   ]
  },
  {
   "cell_type": "code",
   "execution_count": 8,
   "id": "384a78de",
   "metadata": {},
   "outputs": [
    {
     "data": {
      "text/plain": [
       "12.24211363545892"
      ]
     },
     "execution_count": 8,
     "metadata": {},
     "output_type": "execute_result"
    }
   ],
   "source": [
    "15684192 / 1281167"
   ]
  },
  {
   "cell_type": "code",
   "execution_count": 23,
   "id": "5ca07607",
   "metadata": {},
   "outputs": [
    {
     "data": {
      "text/plain": [
       "1281167"
      ]
     },
     "execution_count": 23,
     "metadata": {},
     "output_type": "execute_result"
    }
   ],
   "source": [
    "import os\n",
    "\n",
    "dir = '/data/imagenet/sub'\n",
    "files = os.listdir(dir)\n",
    "len(files)"
   ]
  },
  {
   "cell_type": "code",
   "execution_count": null,
   "id": "83cbe5db",
   "metadata": {},
   "outputs": [],
   "source": []
  },
  {
   "cell_type": "code",
   "execution_count": null,
   "id": "4d64d64f",
   "metadata": {},
   "outputs": [],
   "source": []
  },
  {
   "cell_type": "code",
   "execution_count": null,
   "id": "ba4595f3",
   "metadata": {},
   "outputs": [],
   "source": []
  }
 ],
 "metadata": {
  "kernelspec": {
   "display_name": "ste",
   "language": "python",
   "name": "ste"
  },
  "language_info": {
   "codemirror_mode": {
    "name": "ipython",
    "version": 3
   },
   "file_extension": ".py",
   "mimetype": "text/x-python",
   "name": "python",
   "nbconvert_exporter": "python",
   "pygments_lexer": "ipython3",
   "version": "3.9.18"
  }
 },
 "nbformat": 4,
 "nbformat_minor": 5
}
